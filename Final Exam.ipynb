{
 "cells": [
  {
   "cell_type": "code",
   "execution_count": 1,
   "metadata": {},
   "outputs": [
    {
     "name": "stdout",
     "output_type": "stream",
     "text": [
      "Requirement already satisfied: opencv-contrib-python==4.5.3.56 in c:\\users\\pee\\appdata\\local\\programs\\python\\python39\\lib\\site-packages (4.5.3.56)\n",
      "Requirement already satisfied: numpy>=1.19.3 in c:\\users\\pee\\appdata\\local\\programs\\python\\python39\\lib\\site-packages (from opencv-contrib-python==4.5.3.56) (1.21.3)\n"
     ]
    }
   ],
   "source": [
    "!pip install  opencv-contrib-python==4.5.3.56\n",
    "import numpy as np\n",
    "import cv2 \n"
   ]
  },
  {
   "cell_type": "markdown",
   "metadata": {},
   "source": [
    "Open CV detection Rensec"
   ]
  },
  {
   "cell_type": "code",
   "execution_count": 2,
   "metadata": {},
   "outputs": [],
   "source": [
    "def preprocessing(img) : \n",
    "    img_gray = cv2.cvtColor(img, cv2.COLOR_BGR2GRAY) # รับค่า img โดยใช้ cv2.cvtColor แปลง model สีเป็น Gray *** BGR2GRAY *** เก็บค่าใน img_gray\n",
    "    # img = cv2.cvtColor(img, cv2.COLOR_BGR2RGB)\n",
    "    return (img, img_gray) # return ค่า (img, img_gray)"
   ]
  },
  {
   "cell_type": "code",
   "execution_count": 3,
   "metadata": {},
   "outputs": [],
   "source": [
    "#img = cv2.imread('./images/final_exam/Templates/Template-4.png')# อ่านค่า template_img จากโฟลเดอร์\n",
    "#cv2.imshow('window',img) # show cv2 ตั้งชื่อ window\n",
    "#cv2.waitKey(0)# หน้าต่าง cv2 run ค้าง"
   ]
  },
  {
   "cell_type": "code",
   "execution_count": 4,
   "metadata": {},
   "outputs": [],
   "source": [
    "#sift = cv2.SIFT_create()\n",
    "#bf = cv2.BFMatcher()"
   ]
  },
  {
   "cell_type": "code",
   "execution_count": 5,
   "metadata": {},
   "outputs": [],
   "source": [
    "def feature_object_detection(template_img, template_gray, query_img, query_gray, min_match_number) : #ฟังก์ชันย่อย min_match_number จำนวนเเมตน้อยสุดยอมรับได้\n",
    "    template_kpts, template_desc = cv2.SIFT_create().detectAndCompute(template_gray, None) # หาจุดเด่นของภาพ โดย detectAndCompute\n",
    "    query_kpts, query_desc = cv2.SIFT_create().detectAndCompute(query_gray, None)# หาจุดเด่นของภาพ โดย detectAndCompute\n",
    "    \n",
    "    matches = cv2.BFMatcher().knnMatch(template_desc, query_desc, k=2) # templat_desc กับ query_desc มา matches\n",
    "    good_matches = list() #เก็บค่า\n",
    "    good_matches_list = list() #เก็บค่า\n",
    "\n",
    "    for m, n in matches : # matches[0],matches[1]\n",
    "        if m.distance < 0.7*n.distance : #ถ้าระยะ m น้อยกว่า n เป็น good matches ที่ดี\n",
    "            good_matches.append(m)\n",
    "            good_matches_list.append([m])\n",
    "    \n",
    "    if len(good_matches) > min_match_number : # len นับ good_matches > min_match_number \n",
    "        src_pts = np.float32([ template_kpts[m.queryIdx].pt for m in good_matches ]).reshape(-1,1,2) #วน for ตาม จน good match ได้ src_pts\n",
    "        dst_pts = np.float32([ query_kpts[m.trainIdx].pt for m in good_matches ]).reshape(-1,1,2) #วน for ตาม จน good match ได้ dst_pts\n",
    "\n",
    "        H, inlier_masks = cv2.findHomography(src_pts, dst_pts, cv2.RANSAC, 2.0) # H RANSAC\n",
    "        # get the bounding box around template image\n",
    "        h, w = template_img.shape[:2]\n",
    "        template_box = np.float32([[0, 0], [0, h-1], [w-1, h-1], [w-1, 0]]).reshape(-1,1,2) # -1 ข้อมูลเป้นรก็ได้ 1เเถว 2หลัก\n",
    "        transformed_box = cv2.perspectiveTransform(template_box, H)\n",
    "\n",
    "        detected_img = cv2.polylines(query_img, [np.int32(transformed_box)], True, (0,0,255), 3, cv2.LINE_AA)# plot line\n",
    "        drawmatch_img = cv2.drawMatchesKnn(template_img, template_kpts, detected_img, query_kpts, good_matches_list, None, flags=2, matchesMask=inlier_masks)\n",
    "\n",
    "        return detected_img, drawmatch_img \n",
    "    else :\n",
    "        print('Keypoints not enough')\n",
    "        return "
   ]
  },
  {
   "cell_type": "code",
   "execution_count": 6,
   "metadata": {},
   "outputs": [],
   "source": [
    "template_img = cv2.imread('./images/final_exam/Templates/Template-2.png')# อ่านค่า template_img จากโฟลเดอร์\n",
    "template_img, template_gray = preprocessing(template_img) # รับค่่าจากบรรทัดก่อนหน้า ทำ preprocessing เก็บค่า template_img, template_gray \n",
    "\n",
    "query_vdo1 = cv2.VideoCapture('./videos/final_exam/Dataset-1/left_output-1.avi')\n",
    "#query_vdo1, template_gray = preprocessing(query_vdo1)\n",
    "\n",
    "while query_vdo1.isOpened() :\n",
    "    ret, frame = query_vdo1.read() #ret=true\n",
    "    if ret : # ถ้าอ่านสำเร็จส่งค่า frame\n",
    "        query_vdo_gray1 = cv2.cvtColor(frame,cv2.COLOR_BGR2GRAY)\n",
    "        detected, drawmatch =  feature_object_detection(template_img, template_gray, frame, query_vdo_gray1, 1) #๑# เรียกฟังก์ชันย่อย feature_object_detection อ่านค่ารับค่าจาก 4 ตัวในวงเล็บ ฟังก์ชันย่อย feature_object_detection ส่งค่า detected, drawmatch\n",
    "        cv2.imshow('Video Jub pab nung serr', frame)# เเสดง Video frame รับค่าจาก  frame                                       ๒# 10 แล้วคู่แมตน้อยกว่า 10 จะไม่ทำ\n",
    "\n",
    "        if cv2.waitKey(int(1000/30)) & 0xFF == ord('q') : # this line control the period between image frame\n",
    "            break         #1000/30 ค่า delay vdo 30 ms\n",
    "    else :\n",
    "        break\n",
    "query_vdo1.release()\n",
    "cv2.destroyAllWindows()#กดออกเเล้วออกทั้งหมด"
   ]
  }
 ],
 "metadata": {
  "interpreter": {
   "hash": "d3b9c935b4c1917bb5de4d23e87a46deff5d97a81521407f0be83b7ed9eceeb3"
  },
  "kernelspec": {
   "display_name": "Python 3.9.6 64-bit",
   "language": "python",
   "name": "python3"
  },
  "language_info": {
   "codemirror_mode": {
    "name": "ipython",
    "version": 3
   },
   "file_extension": ".py",
   "mimetype": "text/x-python",
   "name": "python",
   "nbconvert_exporter": "python",
   "pygments_lexer": "ipython3",
   "version": "3.9.6"
  },
  "orig_nbformat": 4
 },
 "nbformat": 4,
 "nbformat_minor": 2
}
